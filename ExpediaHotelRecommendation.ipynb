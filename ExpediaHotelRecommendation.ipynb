{
 "cells": [
  {
   "cell_type": "markdown",
   "metadata": {},
   "source": [
    "# Expedia Hotel Recommendation"
   ]
  },
  {
   "cell_type": "markdown",
   "metadata": {},
   "source": [
    "Expedia provided logs of customer behavior (https://www.kaggle.com/c/expedia-hotel-recommendations)\n",
    "\n",
    "The goal of the analysis is to predict the booking outcome (hotel cluster) for a user event\n",
    "\n",
    "This notebook shows a machine learning approach based on python sklearn library to achieve the above-mentioned goal"
   ]
  },
  {
   "cell_type": "markdown",
   "metadata": {},
   "source": [
    "### File Descriptions"
   ]
  },
  {
   "cell_type": "markdown",
   "metadata": {
    "collapsed": true
   },
   "source": [
    "train.csv - the training set\n",
    "\n",
    "test.csv - the test set\n",
    "\n",
    "destinations.csv - hotel search latent attributes"
   ]
  },
  {
   "cell_type": "markdown",
   "metadata": {},
   "source": [
    "### Loading data sets"
   ]
  },
  {
   "cell_type": "code",
   "execution_count": 2,
   "metadata": {
    "collapsed": false
   },
   "outputs": [],
   "source": [
    "### Import libraries\n",
    "import pandas as pd\n",
    "import numpy as np\n",
    "from datetime import datetime"
   ]
  },
  {
   "cell_type": "code",
   "execution_count": 3,
   "metadata": {
    "collapsed": false
   },
   "outputs": [],
   "source": [
    "train = pd.read_csv(\"train.csv\", parse_dates=['date_time', 'srch_ci', 'srch_co'])"
   ]
  },
  {
   "cell_type": "code",
   "execution_count": 4,
   "metadata": {
    "collapsed": false
   },
   "outputs": [],
   "source": [
    "test = pd.read_csv(\"test.csv\", parse_dates=['srch_ci','srch_co'])"
   ]
  },
  {
   "cell_type": "code",
   "execution_count": 5,
   "metadata": {
    "collapsed": true
   },
   "outputs": [],
   "source": [
    "destinations = pd.read_csv(\"destinations.csv\")"
   ]
  },
  {
   "cell_type": "markdown",
   "metadata": {},
   "source": [
    "### Check data frame dimensions"
   ]
  },
  {
   "cell_type": "code",
   "execution_count": 6,
   "metadata": {
    "collapsed": false
   },
   "outputs": [
    {
     "data": {
      "text/plain": [
       "(37670293, 24)"
      ]
     },
     "execution_count": 6,
     "metadata": {},
     "output_type": "execute_result"
    }
   ],
   "source": [
    "train.shape"
   ]
  },
  {
   "cell_type": "code",
   "execution_count": 7,
   "metadata": {
    "collapsed": false
   },
   "outputs": [
    {
     "data": {
      "text/plain": [
       "(2528243, 22)"
      ]
     },
     "execution_count": 7,
     "metadata": {},
     "output_type": "execute_result"
    }
   ],
   "source": [
    "test.shape"
   ]
  },
  {
   "cell_type": "code",
   "execution_count": 8,
   "metadata": {
    "collapsed": false
   },
   "outputs": [
    {
     "data": {
      "text/plain": [
       "(62106, 150)"
      ]
     },
     "execution_count": 8,
     "metadata": {},
     "output_type": "execute_result"
    }
   ],
   "source": [
    "destinations.shape"
   ]
  },
  {
   "cell_type": "markdown",
   "metadata": {},
   "source": [
    "### Explore datasets"
   ]
  },
  {
   "cell_type": "code",
   "execution_count": 9,
   "metadata": {
    "collapsed": false
   },
   "outputs": [],
   "source": [
    "# summary of train data\n",
    "#train.info()"
   ]
  },
  {
   "cell_type": "code",
   "execution_count": 10,
   "metadata": {
    "collapsed": false
   },
   "outputs": [
    {
     "data": {
      "text/plain": [
       "site_name                   -0.022408\n",
       "posa_continent               0.014938\n",
       "user_location_country       -0.010477\n",
       "user_location_region         0.007453\n",
       "user_location_city           0.000831\n",
       "orig_destination_distance    0.007260\n",
       "user_id                      0.001052\n",
       "is_mobile                    0.008412\n",
       "is_package                   0.038733\n",
       "channel                      0.000707\n",
       "srch_adults_cnt              0.012309\n",
       "srch_children_cnt            0.016261\n",
       "srch_rm_cnt                 -0.005954\n",
       "srch_destination_id         -0.011712\n",
       "srch_destination_type_id    -0.032850\n",
       "is_booking                  -0.021548\n",
       "cnt                          0.002944\n",
       "hotel_continent             -0.013963\n",
       "hotel_country               -0.024289\n",
       "hotel_market                 0.034205\n",
       "hotel_cluster                1.000000\n",
       "Name: hotel_cluster, dtype: float64"
      ]
     },
     "execution_count": 10,
     "metadata": {},
     "output_type": "execute_result"
    }
   ],
   "source": [
    "## Check correlation of column features to hotel_cluster\n",
    "train.corr()[\"hotel_cluster\"]"
   ]
  },
  {
   "cell_type": "code",
   "execution_count": 11,
   "metadata": {
    "collapsed": false
   },
   "outputs": [],
   "source": [
    "# change column format from float to interger\n",
    "train['orig_destination_distance'] = train['orig_destination_distance'].fillna(0).astype(int)\n",
    "test['orig_destination_distance'] = test['orig_destination_distance'].fillna(0).astype(int)\n",
    "test_sub=pd.DataFrame(test.drop(['date_time', 'srch_ci','srch_co', 'is_mobile'], axis=1))"
   ]
  },
  {
   "cell_type": "code",
   "execution_count": 13,
   "metadata": {
    "collapsed": false
   },
   "outputs": [
    {
     "data": {
      "text/plain": [
       "1181577"
      ]
     },
     "execution_count": 13,
     "metadata": {},
     "output_type": "execute_result"
    }
   ],
   "source": [
    "# Number of unique user ids in the train and test dataset\n",
    "len(train.user_id.unique())\n",
    "len(test.user_id.unique())"
   ]
  },
  {
   "cell_type": "code",
   "execution_count": 14,
   "metadata": {
    "collapsed": false
   },
   "outputs": [
    {
     "data": {
      "text/plain": [
       "100"
      ]
     },
     "execution_count": 14,
     "metadata": {},
     "output_type": "execute_result"
    }
   ],
   "source": [
    "#list(train.hotel_cluster)\n",
    "len(train.hotel_cluster.unique())"
   ]
  },
  {
   "cell_type": "code",
   "execution_count": 16,
   "metadata": {
    "collapsed": false
   },
   "outputs": [
    {
     "data": {
      "text/plain": [
       "['id']"
      ]
     },
     "execution_count": 16,
     "metadata": {},
     "output_type": "execute_result"
    }
   ],
   "source": [
    "train_c = list(train.columns)\n",
    "test_c = list(test.columns)"
   ]
  },
  {
   "cell_type": "code",
   "execution_count": 18,
   "metadata": {
    "collapsed": false
   },
   "outputs": [
    {
     "data": {
      "text/plain": [
       "['is_booking', 'cnt', 'hotel_cluster']"
      ]
     },
     "execution_count": 18,
     "metadata": {},
     "output_type": "execute_result"
    }
   ],
   "source": [
    "## Columns in train and not test\n",
    "tr = [x for x in train_c if x not in test_c]\n",
    "tr"
   ]
  },
  {
   "cell_type": "code",
   "execution_count": 19,
   "metadata": {
    "collapsed": false
   },
   "outputs": [
    {
     "data": {
      "text/plain": [
       "['id']"
      ]
     },
     "execution_count": 19,
     "metadata": {},
     "output_type": "execute_result"
    }
   ],
   "source": [
    "## Columns in test and not train\n",
    "te = [x for x in test_c if x not in train_c]\n",
    "te"
   ]
  },
  {
   "cell_type": "markdown",
   "metadata": {},
   "source": [
    "### Model training and Validation"
   ]
  },
  {
   "cell_type": "code",
   "execution_count": 20,
   "metadata": {
    "collapsed": false
   },
   "outputs": [],
   "source": [
    "from sklearn.cross_validation import train_test_split\n",
    "from sklearn.neighbors import KNeighborsClassifier\n",
    "\n",
    "# Python list of features\n",
    "feature_cols = ['site_name', 'posa_continent', 'user_location_country', \\\n",
    "       'user_location_region','user_location_city','orig_destination_distance',\\\n",
    "       'user_id', 'is_mobile', 'is_package', \\\n",
    "       'channel', 'srch_adults_cnt', \\\n",
    "       'srch_children_cnt', 'srch_rm_cnt', 'srch_destination_id', \\\n",
    "      'srch_destination_type_id', 'hotel_continent', \\\n",
    "       'hotel_country', 'hotel_market']\n",
    "\n",
    "X = train[feature_cols]\n",
    "\n",
    "# select hotel_cluster for classification\n",
    "y = train['hotel_cluster']\n",
    "\n",
    "# split into training and testing sets\n",
    "X_train, X_test, y_train, y_test = train_test_split(X, y, random_state=1)\n",
    "\n",
    "\n",
    "# train model with KNN algorithm\n",
    "knn = KNeighborsClassifier(n_neighbors=1)\n",
    "knn.fit(X_train, y_train)\n",
    "y_pred = knn.predict(X_test)"
   ]
  },
  {
   "cell_type": "code",
   "execution_count": 21,
   "metadata": {
    "collapsed": false
   },
   "outputs": [
    {
     "name": "stdout",
     "output_type": "stream",
     "text": [
      "0.30623980231\n"
     ]
    }
   ],
   "source": [
    "# Accuracy for the KNN model\n",
    "from sklearn import metrics\n",
    "print metrics.accuracy_score(y_test, y_pred)"
   ]
  },
  {
   "cell_type": "markdown",
   "metadata": {},
   "source": [
    "Accuracy value is not great."
   ]
  },
  {
   "cell_type": "code",
   "execution_count": 61,
   "metadata": {
    "collapsed": false
   },
   "outputs": [
    {
     "name": "stdout",
     "output_type": "stream",
     "text": [
      "True:      [74 85 13 98 61 77 17 71 24 41 83 84  1 34  5 48 90 61  5 39  8 45  9 46  5\n",
      " 64 34 36  3 92]\n",
      "Predicted: [74 85 55 95 61  7 47 31 24 96  7 93  1 11 80 32 66 61 95 16  8 45 99 25 48\n",
      " 52 11 59  3 52]\n"
     ]
    }
   ],
   "source": [
    "# print the first 50 true and predicted responses\n",
    "print 'True:     ', y_test.values[0:30]\n",
    "print 'Predicted:', y_pred[0:30]"
   ]
  },
  {
   "cell_type": "markdown",
   "metadata": {
    "collapsed": true
   },
   "source": [
    "### Make prediction on test.csv"
   ]
  },
  {
   "cell_type": "code",
   "execution_count": 38,
   "metadata": {
    "collapsed": false
   },
   "outputs": [],
   "source": [
    "test_sub['hotel_cluster'] = knn.predict(test_sub)"
   ]
  },
  {
   "cell_type": "code",
   "execution_count": 62,
   "metadata": {
    "collapsed": false
   },
   "outputs": [],
   "source": [
    "df=pd.DataFrame(test_sub, columns=['id','hotel_cluster'])\n",
    "\n",
    "# write one prediction per user event to file\n",
    "df.to_csv('file_submission.csv', index=False)"
   ]
  },
  {
   "cell_type": "code",
   "execution_count": null,
   "metadata": {
    "collapsed": true
   },
   "outputs": [],
   "source": []
  }
 ],
 "metadata": {
  "kernelspec": {
   "display_name": "Python 2",
   "language": "python",
   "name": "python2"
  },
  "language_info": {
   "codemirror_mode": {
    "name": "ipython",
    "version": 2
   },
   "file_extension": ".py",
   "mimetype": "text/x-python",
   "name": "python",
   "nbconvert_exporter": "python",
   "pygments_lexer": "ipython2",
   "version": "2.7.11"
  }
 },
 "nbformat": 4,
 "nbformat_minor": 0
}
