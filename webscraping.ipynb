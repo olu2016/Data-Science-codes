{
 "cells": [
  {
   "cell_type": "code",
   "execution_count": 34,
   "metadata": {
    "collapsed": false
   },
   "outputs": [
    {
     "name": "stdout",
     "output_type": "stream",
     "text": [
      "27\n",
      "[[u'Dr Peter Oakes', u'Greenwood Senior Lecturer in the New Testament', u'0161 275 3612', u'peter.oakes@manchester.ac.uk;'], [], [u'Dr Andrew Boakye', u'Lecturer in Religions and Theology', u'0161 275 8596', u'andrew.boakye@manchester.ac.uk;'], [u'Dr Youssef Choueiri', u'Reader In Islamic Studies - on extended leave from September 2015', u'0161 275 3603', u'youssef.choueiri@manchester.ac.uk'], [u'Dr Andrew Crome', u'Lecturer in the History of Modern Christianity', u'0161 275 3600', u'andrew.crome@manchester.ac.uk'], [u'Dr Dan Garner', u'Lecturer in Jewish Studies', u'0161 275 3736', u'daniel.garner@manchester.ac.uk'], [u'Dr Maria Cioata', u'British Academy Postdoctoral Fellow', u'0161 275 3607', u'maria.haralambakis@manchester.ac.uk'], [u'Dr Michael Hoelzl', u'Lecturer in Philosophy of Religion', u'0161 306 1663', u'michael.hoelzl@manchester.ac.uk'], [u'Dr Gary Keogh', u'Lecturer in Religions and Theology', u'0161 275 3292', u'gary.keogh@manchester.ac.uk'], [u'Dr Todd Klutz', u'Senior Lecturer', u'0161 275 3608', u'todd.klutz@manchester.ac.uk'], [u'Prof Daniel Langton', u'Professor of the History of Jewish-Christian Relations', u'0161 275 8592', u'daniel.r.langton@manchester.ac.uk'], [u'Prof David Law', u'Director of External Relations/Professor of Christian Thought and Philosophical Theology', u'0161 275 3596;', u'david.r.law@manchester.ac.uk'], [u'Dr Jonathan Mair', u'Lecturer in Buddhist Thought and Practice', u'0161 275 3606;', u'jonathan.mair@manchester.ac.uk'], [u'Prof Peter Scott', u'Samuel Ferguson Professor of Applied Theology and Director of the Lincoln Theological Institute', u';0161 275 3064', u'peter.scott@manchester.ac.uk'], [u'Dr Renate Smithuis', u'Lecturer in Medieval Jewish Studies', u'0161 275 3601', u'renate.smithuis@manchester.ac.uk'], [u'Ms Katja Stuerzenhofecker', u'Lecturer Gender Studies in Religion', u'0161 275 3607', u'katja.stuerzenhofecker@manchester.ac.uk'], [u'Dr Jacqueline Suthren Hirst', u'Senior Lecturer in Comparative Religion', u'0161 275 3616', u'jacqueline.hirst@manchester.ac.uk'], [u'Prof Alan Williams', u'Professor of Iranian Studies and Comparative Religion', u'0161 275 3618', u'alan.williams@manchester.ac.uk'], [u'Dr John Zavos', u'Senior Lecturer in South Asian Studies', u'0161 275 3835', u'john.zavos@manchester.ac.uk'], [], [u'Dr Peter Nockles', u'peter.nockles@manchester.ac.uk;'], [], [u'Prof;Philip Alexander', u'Professor of Post-Biblical Jewish Literature', u'philip.alexander@manchester.ac.uk'], [u'Prof George Brooke', u'Rylands Professor of Biblical Criticism and Exegesis', u'george.brooke@manchester.ac.uk'], [], [u'Gemma McCabe', u'Undergraduate Programme Administrator;', u'0161 275 3151;', u'gemma.mccabe@manchester.ac.uk;']]\n"
     ]
    }
   ],
   "source": [
    "#### Scraping the webpage of the School of Arts, Languages and Cultures, University of Manchester for staf informtion\n",
    "\n",
    "import csv\n",
    "import requests\n",
    "import sys\n",
    "sys.path.append('C:\\Anaconda\\Lib\\site-packages')\n",
    "from BeautifulSoup import BeautifulSoup\n",
    "\n",
    "\n",
    "## use the Requests library to open the URL, download the HTML and pass it to BeautifulSoup\n",
    "url = 'http://www.alc.manchester.ac.uk/subjects/religionstheology/people/'\n",
    "#response =requests.get(url)\n",
    "#soup = BeautifulSoup(response.text, 'html.parser')\n",
    "response = requests.get(url)\n",
    "html = response.content\n",
    "soup = BeautifulSoup(html)\n",
    "\n",
    "#table = soup.findAll('table', attrs={'class': 'StaffList'})\n",
    "table = soup.findAll('tr')\n",
    "print len(table)\n",
    "list_of_rows = []\n",
    "\n",
    "## Loop through table rows and columns\n",
    "for row in table[1:]: #skip table header\n",
    "    list_of_cells = []\n",
    "    for cell in row.findAll('td'): # each cell in in a row\n",
    "        text = cell.text.replace('&nbsp','')\n",
    "        list_of_cells.append(text.rstrip())\n",
    "    #print list_of_cells\n",
    "    list_of_rows.append(list_of_cells) # Lists of all cells in all rows\n",
    "   \n",
    "## printing all rows and columns\n",
    "print list_of_rows\n",
    "\n",
    "## Save data\n",
    "outfile = open(\"StaffList.csv\", \"wb\")\n",
    "writer = csv.writer(outfile)\n",
    "writer.writerow([\"Name\", \"Post title\", \"Telephone\", \"Email\"])\n",
    "writer.writerows(list_of_rows)\n",
    "outfile.close()"
   ]
  },
  {
   "cell_type": "code",
   "execution_count": null,
   "metadata": {
    "collapsed": true
   },
   "outputs": [],
   "source": []
  }
 ],
 "metadata": {
  "kernelspec": {
   "display_name": "Python 2",
   "language": "python",
   "name": "python2"
  },
  "language_info": {
   "codemirror_mode": {
    "name": "ipython",
    "version": 2
   },
   "file_extension": ".py",
   "mimetype": "text/x-python",
   "name": "python",
   "nbconvert_exporter": "python",
   "pygments_lexer": "ipython2",
   "version": "2.7.11"
  }
 },
 "nbformat": 4,
 "nbformat_minor": 0
}
