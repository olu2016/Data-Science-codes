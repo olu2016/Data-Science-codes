{
 "cells": [
  {
   "cell_type": "code",
   "execution_count": 134,
   "metadata": {
    "collapsed": false
   },
   "outputs": [],
   "source": [
    "import pandas as pd\n",
    "\n",
    "%matplotlib inline\n",
    "import matplotlib.pyplot as plt\n",
    "\n",
    "import numpy as np"
   ]
  },
  {
   "cell_type": "markdown",
   "metadata": {},
   "source": [
    "## Load series data"
   ]
  },
  {
   "cell_type": "code",
   "execution_count": 135,
   "metadata": {
    "collapsed": false
   },
   "outputs": [],
   "source": [
    "TrendData = pd.read_csv('C:\\Users\\Olu\\Dropbox\\File2\\Careers\\Olu\\Cargill and Dow\\July2015and 2016\\WarwickAnalytics\\Q2\\TrendData.csv',\n",
    "                       parse_dates=['Date'])"
   ]
  },
  {
   "cell_type": "markdown",
   "metadata": {},
   "source": [
    "## Exploring the Trend Data"
   ]
  },
  {
   "cell_type": "code",
   "execution_count": 136,
   "metadata": {
    "collapsed": false
   },
   "outputs": [
    {
     "data": {
      "text/plain": [
       "(3806, 2)"
      ]
     },
     "execution_count": 136,
     "metadata": {},
     "output_type": "execute_result"
    }
   ],
   "source": [
    "TrendData.shape"
   ]
  },
  {
   "cell_type": "code",
   "execution_count": 137,
   "metadata": {
    "collapsed": false
   },
   "outputs": [
    {
     "data": {
      "text/html": [
       "<div>\n",
       "<table border=\"1\" class=\"dataframe\">\n",
       "  <thead>\n",
       "    <tr style=\"text-align: right;\">\n",
       "      <th></th>\n",
       "      <th>Date</th>\n",
       "      <th>Value</th>\n",
       "    </tr>\n",
       "  </thead>\n",
       "  <tbody>\n",
       "    <tr>\n",
       "      <th>0</th>\n",
       "      <td>2014-07-04</td>\n",
       "      <td>137209.0</td>\n",
       "    </tr>\n",
       "    <tr>\n",
       "      <th>1</th>\n",
       "      <td>2014-04-04</td>\n",
       "      <td>137639.0</td>\n",
       "    </tr>\n",
       "    <tr>\n",
       "      <th>2</th>\n",
       "      <td>2014-03-04</td>\n",
       "      <td>137876.0</td>\n",
       "    </tr>\n",
       "    <tr>\n",
       "      <th>3</th>\n",
       "      <td>2014-02-04</td>\n",
       "      <td>137795.0</td>\n",
       "    </tr>\n",
       "    <tr>\n",
       "      <th>4</th>\n",
       "      <td>2014-01-04</td>\n",
       "      <td>137623.0</td>\n",
       "    </tr>\n",
       "  </tbody>\n",
       "</table>\n",
       "</div>"
      ],
      "text/plain": [
       "        Date     Value\n",
       "0 2014-07-04  137209.0\n",
       "1 2014-04-04  137639.0\n",
       "2 2014-03-04  137876.0\n",
       "3 2014-02-04  137795.0\n",
       "4 2014-01-04  137623.0"
      ]
     },
     "execution_count": 137,
     "metadata": {},
     "output_type": "execute_result"
    }
   ],
   "source": [
    "TrendData.head()"
   ]
  },
  {
   "cell_type": "code",
   "execution_count": 138,
   "metadata": {
    "collapsed": false
   },
   "outputs": [
    {
     "data": {
      "text/html": [
       "<div>\n",
       "<table border=\"1\" class=\"dataframe\">\n",
       "  <thead>\n",
       "    <tr style=\"text-align: right;\">\n",
       "      <th></th>\n",
       "      <th>Value</th>\n",
       "    </tr>\n",
       "    <tr>\n",
       "      <th>Date</th>\n",
       "      <th></th>\n",
       "    </tr>\n",
       "  </thead>\n",
       "  <tbody>\n",
       "    <tr>\n",
       "      <th>2014-07-04</th>\n",
       "      <td>137209.0</td>\n",
       "    </tr>\n",
       "    <tr>\n",
       "      <th>2014-04-04</th>\n",
       "      <td>137639.0</td>\n",
       "    </tr>\n",
       "    <tr>\n",
       "      <th>2014-03-04</th>\n",
       "      <td>137876.0</td>\n",
       "    </tr>\n",
       "    <tr>\n",
       "      <th>2014-02-04</th>\n",
       "      <td>137795.0</td>\n",
       "    </tr>\n",
       "    <tr>\n",
       "      <th>2014-01-04</th>\n",
       "      <td>137623.0</td>\n",
       "    </tr>\n",
       "  </tbody>\n",
       "</table>\n",
       "</div>"
      ],
      "text/plain": [
       "               Value\n",
       "Date                \n",
       "2014-07-04  137209.0\n",
       "2014-04-04  137639.0\n",
       "2014-03-04  137876.0\n",
       "2014-02-04  137795.0\n",
       "2014-01-04  137623.0"
      ]
     },
     "execution_count": 138,
     "metadata": {},
     "output_type": "execute_result"
    }
   ],
   "source": [
    "TrendData = TrendData.set_index('Date')\n",
    "TrendData.head()"
   ]
  },
  {
   "cell_type": "code",
   "execution_count": null,
   "metadata": {
    "collapsed": false
   },
   "outputs": [],
   "source": []
  },
  {
   "cell_type": "markdown",
   "metadata": {},
   "source": [
    "##### Create a line chart showing Value by year"
   ]
  },
  {
   "cell_type": "code",
   "execution_count": 139,
   "metadata": {
    "collapsed": false
   },
   "outputs": [
    {
     "name": "stderr",
     "output_type": "stream",
     "text": [
      "C:\\Users\\Olu\\Anaconda2\\lib\\site-packages\\ipykernel\\__main__.py:4: FutureWarning: .resample() is now a deferred operation\n",
      "use .resample(...).mean() instead of .resample(...)\n"
     ]
    },
    {
     "data": {
      "image/png": "[encoded data removed]",
      "text/plain": [
       "<matplotlib.figure.Figure at 0x1361d048>"
      ]
     },
     "metadata": {},
     "output_type": "display_data"
    }
   ],
   "source": [
    "##### Create a line chart showing Value by year\n",
    "\n",
    "#TrendData.resample('AS', how=['mean',np.min, np.max]).plot(title=\"Value by year\")\n",
    "Trend_plot = TrendData.resample('AS').plot(title=\"Value by year\", figsize=(16,6),  legend=False)\n",
    "Trend_plot.set_xlabel(\"Date\", fontsize=16,fontweight='bold')\n",
    "Trend_plot.set_ylabel(\"Value\", fontsize=16,fontweight='bold')\n",
    "plt.xticks(fontsize=13) \n",
    "plt.yticks(fontsize=13)\n",
    "plt.savefig(\"trend_plot.png\", dpi=600, bbox=\"tight\")"
   ]
  },
  {
   "cell_type": "markdown",
   "metadata": {},
   "source": [
    "The points of inflection in the trend chart above indicate changes in values, either positive or negative, coinciding with each year. Hence, yearly semnetation will be ideal for this trend data."
   ]
  },
  {
   "cell_type": "code",
   "execution_count": 140,
   "metadata": {
    "collapsed": false
   },
   "outputs": [
    {
     "data": {
      "text/html": [
       "<div>\n",
       "<table border=\"1\" class=\"dataframe\">\n",
       "  <thead>\n",
       "    <tr style=\"text-align: right;\">\n",
       "      <th></th>\n",
       "      <th>Date</th>\n",
       "      <th>Value</th>\n",
       "    </tr>\n",
       "  </thead>\n",
       "  <tbody>\n",
       "    <tr>\n",
       "      <th>0</th>\n",
       "      <td>2014-07-04</td>\n",
       "      <td>137209.0</td>\n",
       "    </tr>\n",
       "    <tr>\n",
       "      <th>1</th>\n",
       "      <td>2014-04-04</td>\n",
       "      <td>137639.0</td>\n",
       "    </tr>\n",
       "    <tr>\n",
       "      <th>2</th>\n",
       "      <td>2014-03-04</td>\n",
       "      <td>137876.0</td>\n",
       "    </tr>\n",
       "    <tr>\n",
       "      <th>3</th>\n",
       "      <td>2014-02-04</td>\n",
       "      <td>137795.0</td>\n",
       "    </tr>\n",
       "    <tr>\n",
       "      <th>4</th>\n",
       "      <td>2014-01-04</td>\n",
       "      <td>137623.0</td>\n",
       "    </tr>\n",
       "  </tbody>\n",
       "</table>\n",
       "</div>"
      ],
      "text/plain": [
       "        Date     Value\n",
       "0 2014-07-04  137209.0\n",
       "1 2014-04-04  137639.0\n",
       "2 2014-03-04  137876.0\n",
       "3 2014-02-04  137795.0\n",
       "4 2014-01-04  137623.0"
      ]
     },
     "execution_count": 140,
     "metadata": {},
     "output_type": "execute_result"
    }
   ],
   "source": [
    "TrendData = TrendData.reset_index()\n",
    "TrendData.head()"
   ]
  },
  {
   "cell_type": "markdown",
   "metadata": {},
   "source": [
    "## Segment Trend Data by Date based on trends in the values"
   ]
  },
  {
   "cell_type": "code",
   "execution_count": 141,
   "metadata": {
    "collapsed": false
   },
   "outputs": [
    {
     "data": {
      "text/html": [
       "<div>\n",
       "<table border=\"1\" class=\"dataframe\">\n",
       "  <thead>\n",
       "    <tr style=\"text-align: right;\">\n",
       "      <th></th>\n",
       "      <th>StartDate</th>\n",
       "      <th>EndDate</th>\n",
       "      <th>StartValue</th>\n",
       "      <th>EndValue</th>\n",
       "    </tr>\n",
       "    <tr>\n",
       "      <th>Date</th>\n",
       "      <th></th>\n",
       "      <th></th>\n",
       "      <th></th>\n",
       "      <th></th>\n",
       "    </tr>\n",
       "  </thead>\n",
       "  <tbody>\n",
       "    <tr>\n",
       "      <th>1999</th>\n",
       "      <td>1999-01-10</td>\n",
       "      <td>1999-12-31</td>\n",
       "      <td>106967.0</td>\n",
       "      <td>100534.0</td>\n",
       "    </tr>\n",
       "    <tr>\n",
       "      <th>2000</th>\n",
       "      <td>2000-01-02</td>\n",
       "      <td>2000-12-29</td>\n",
       "      <td>97303.1</td>\n",
       "      <td>92998.8</td>\n",
       "    </tr>\n",
       "    <tr>\n",
       "      <th>2001</th>\n",
       "      <td>2001-01-01</td>\n",
       "      <td>2001-12-31</td>\n",
       "      <td>93723.3</td>\n",
       "      <td>88488.0</td>\n",
       "    </tr>\n",
       "    <tr>\n",
       "      <th>2002</th>\n",
       "      <td>2002-01-01</td>\n",
       "      <td>2002-12-31</td>\n",
       "      <td>88962.6</td>\n",
       "      <td>104624.0</td>\n",
       "    </tr>\n",
       "    <tr>\n",
       "      <th>2003</th>\n",
       "      <td>2003-01-01</td>\n",
       "      <td>2003-12-31</td>\n",
       "      <td>104928.0</td>\n",
       "      <td>125277.0</td>\n",
       "    </tr>\n",
       "    <tr>\n",
       "      <th>2004</th>\n",
       "      <td>2004-01-01</td>\n",
       "      <td>2004-12-31</td>\n",
       "      <td>125695.0</td>\n",
       "      <td>136269.0</td>\n",
       "    </tr>\n",
       "    <tr>\n",
       "      <th>2005</th>\n",
       "      <td>2005-01-02</td>\n",
       "      <td>2005-12-30</td>\n",
       "      <td>130344.0</td>\n",
       "      <td>118641.0</td>\n",
       "    </tr>\n",
       "    <tr>\n",
       "      <th>2006</th>\n",
       "      <td>2006-01-02</td>\n",
       "      <td>2006-12-29</td>\n",
       "      <td>121045.0</td>\n",
       "      <td>131361.0</td>\n",
       "    </tr>\n",
       "    <tr>\n",
       "      <th>2007</th>\n",
       "      <td>2007-01-01</td>\n",
       "      <td>2007-12-31</td>\n",
       "      <td>131758.0</td>\n",
       "      <td>146471.0</td>\n",
       "    </tr>\n",
       "    <tr>\n",
       "      <th>2008</th>\n",
       "      <td>2008-01-01</td>\n",
       "      <td>2008-12-31</td>\n",
       "      <td>147098.0</td>\n",
       "      <td>141313.0</td>\n",
       "    </tr>\n",
       "    <tr>\n",
       "      <th>2009</th>\n",
       "      <td>2009-01-01</td>\n",
       "      <td>2009-12-31</td>\n",
       "      <td>140624.0</td>\n",
       "      <td>143529.0</td>\n",
       "    </tr>\n",
       "    <tr>\n",
       "      <th>2010</th>\n",
       "      <td>2010-01-01</td>\n",
       "      <td>2010-12-31</td>\n",
       "      <td>143556.0</td>\n",
       "      <td>132085.0</td>\n",
       "    </tr>\n",
       "    <tr>\n",
       "      <th>2011</th>\n",
       "      <td>2011-01-02</td>\n",
       "      <td>2011-12-30</td>\n",
       "      <td>136298.0</td>\n",
       "      <td>129648.0</td>\n",
       "    </tr>\n",
       "    <tr>\n",
       "      <th>2012</th>\n",
       "      <td>2012-01-02</td>\n",
       "      <td>2012-12-31</td>\n",
       "      <td>131508.0</td>\n",
       "      <td>132269.0</td>\n",
       "    </tr>\n",
       "    <tr>\n",
       "      <th>2013</th>\n",
       "      <td>2013-01-01</td>\n",
       "      <td>2013-12-31</td>\n",
       "      <td>132091.0</td>\n",
       "      <td>137606.0</td>\n",
       "    </tr>\n",
       "    <tr>\n",
       "      <th>2014</th>\n",
       "      <td>2014-01-01</td>\n",
       "      <td>2014-12-03</td>\n",
       "      <td>137791.0</td>\n",
       "      <td>138705.0</td>\n",
       "    </tr>\n",
       "  </tbody>\n",
       "</table>\n",
       "</div>"
      ],
      "text/plain": [
       "      StartDate    EndDate  StartValue  EndValue\n",
       "Date                                            \n",
       "1999 1999-01-10 1999-12-31    106967.0  100534.0\n",
       "2000 2000-01-02 2000-12-29     97303.1   92998.8\n",
       "2001 2001-01-01 2001-12-31     93723.3   88488.0\n",
       "2002 2002-01-01 2002-12-31     88962.6  104624.0\n",
       "2003 2003-01-01 2003-12-31    104928.0  125277.0\n",
       "2004 2004-01-01 2004-12-31    125695.0  136269.0\n",
       "2005 2005-01-02 2005-12-30    130344.0  118641.0\n",
       "2006 2006-01-02 2006-12-29    121045.0  131361.0\n",
       "2007 2007-01-01 2007-12-31    131758.0  146471.0\n",
       "2008 2008-01-01 2008-12-31    147098.0  141313.0\n",
       "2009 2009-01-01 2009-12-31    140624.0  143529.0\n",
       "2010 2010-01-01 2010-12-31    143556.0  132085.0\n",
       "2011 2011-01-02 2011-12-30    136298.0  129648.0\n",
       "2012 2012-01-02 2012-12-31    131508.0  132269.0\n",
       "2013 2013-01-01 2013-12-31    132091.0  137606.0\n",
       "2014 2014-01-01 2014-12-03    137791.0  138705.0"
      ]
     },
     "execution_count": 141,
     "metadata": {},
     "output_type": "execute_result"
    }
   ],
   "source": [
    "##### Segment Trend Data by year since value changes correspond with changes per year\n",
    "\n",
    "TrendData_df = TrendData.sort_values('Date').groupby(TrendData.Date.dt.year).agg(['first', 'last'])\n",
    "TrendData_df.columns = ['StartDate','EndDate', 'StartValue','EndValue']\n",
    "TrendData_df"
   ]
  },
  {
   "cell_type": "code",
   "execution_count": 143,
   "metadata": {
    "collapsed": false
   },
   "outputs": [],
   "source": [
    "##### Save results to file\n",
    "TrendData_df.to_csv('trend_segments.csv', index=False)"
   ]
  },
  {
   "cell_type": "code",
   "execution_count": null,
   "metadata": {
    "collapsed": true
   },
   "outputs": [],
   "source": []
  }
 ],
 "metadata": {
  "kernelspec": {
   "display_name": "Python 2",
   "language": "python",
   "name": "python2"
  },
  "language_info": {
   "codemirror_mode": {
    "name": "ipython",
    "version": 2
   },
   "file_extension": ".py",
   "mimetype": "text/x-python",
   "name": "python",
   "nbconvert_exporter": "python",
   "pygments_lexer": "ipython2",
   "version": "2.7.11"
  }
 },
 "nbformat": 4,
 "nbformat_minor": 0
}
