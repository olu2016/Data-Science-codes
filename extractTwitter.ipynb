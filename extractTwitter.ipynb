{
 "cells": [
  {
   "cell_type": "code",
   "execution_count": null,
   "metadata": {
    "collapsed": true
   },
   "outputs": [],
   "source": [
    "###Web scrapping\n",
    "\n",
    "from twython import Twython\n",
    "\n",
    "twitter = Twython(CONSUMER_KEY, CONSUMER_SECRET)\n",
    "# search for tweets containing the phrase \"data science\"\n",
    "for status in twitter.search(q='\"data science\"')[\"statuses\"]:\n",
    "    user = status[\"user\"][\"screen_name\"].encode('utf-8')\n",
    "    text = status[\"text\"].encode('utf-8')\n",
    "    print user, \":\", text\n",
    "    print\n",
    "\n",
    "\n",
    "from twython import TwythonStreamer\n",
    "# appending data to a global variable is pretty poor form\n",
    "# but it makes the example much simpler\n",
    "tweets = []\n",
    "class MyStreamer(TwythonStreamer):\n",
    "\"\"\"our own subclass of TwythonStreamer that specifies\n",
    "how to interact with the stream\"\"\"\n",
    "    def on_success(self, data):\n",
    "    \"\"\"what do we do when twitter sends us data?\n",
    "    here data will be a Python dict representing a tweet\"\"\"\n",
    "    # only want to collect English-language tweets\n",
    "    if data['lang'] == 'en':\n",
    "        tweets.append(data)\n",
    "        print \"received tweet #\", len(tweets)\n",
    "        # stop when we've collected enough\n",
    "        if len(tweets) >= 1000:\n",
    "        self.disconnect()\n",
    "        def on_error(self, status_code, data):\n",
    "        print status_code, data\n",
    "        self.disconnect()"
   ]
  }
 ],
 "metadata": {
  "kernelspec": {
   "display_name": "Python 2",
   "language": "python",
   "name": "python2"
  },
  "language_info": {
   "codemirror_mode": {
    "name": "ipython",
    "version": 2
   },
   "file_extension": ".py",
   "mimetype": "text/x-python",
   "name": "python",
   "nbconvert_exporter": "python",
   "pygments_lexer": "ipython2",
   "version": "2.7.11"
  }
 },
 "nbformat": 4,
 "nbformat_minor": 0
}
